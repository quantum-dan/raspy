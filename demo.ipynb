{
 "cells": [
  {
   "cell_type": "markdown",
   "id": "13eb1a1e",
   "metadata": {},
   "source": [
    "# Example Raspy Usage\n",
    "\n",
    "This Notebook covers some examples of how to use Raspy with a HEC-RAS project.  It will demonstrate:\n",
    "\n",
    "- Retrieving flow data\n",
    "- Setting roughness\n",
    "- Changing flow files"
   ]
  },
  {
   "cell_type": "markdown",
   "id": "9ac6251b",
   "metadata": {},
   "source": [
    "## General Setup\n",
    "\n",
    "First, set up a `Ras` object pointed to your project.  This provides direct control over HEC-RAS.  Note that the project should be set to the plan you want to use.  The demo project I use is from HEC-RAS 5.0.7, but you can specify a different version using, e.g., `which=\"631\"` for HEC-RAS 6.4.1.  (I have run some basic tests with HEC-RAS 6, but not extensively.  You may encounter bugs.)"
   ]
  },
  {
   "cell_type": "code",
   "execution_count": 1,
   "id": "78e79e71",
   "metadata": {},
   "outputs": [],
   "source": [
    "from raspy_auto import *"
   ]
  },
  {
   "cell_type": "code",
   "execution_count": 3,
   "id": "ff9c3180",
   "metadata": {},
   "outputs": [],
   "source": [
    "# Update with your own project path.\n",
    "project_path = r\"C:\\Users\\dphilippus\\Dropbox\\Home\\Research\\RaspyDev\\raspy_auto\\TestProj\\test.prj\"\n",
    "# Set up a HEC-RAS control object\n",
    "ras = Ras(projectPath=project_path, which=\"507\")"
   ]
  },
  {
   "cell_type": "markdown",
   "id": "3ea71902",
   "metadata": {},
   "source": [
    "The `Ras` object provides direct, lower-level HEC-RAS control.  It also loads in, and can be used to examine, the model structure (e.g., rivers, reaches).  For example, below I will list all rivers, reaches, and cross-sections in the demo project.  Behold my creativity in naming rivers and reaches."
   ]
  },
  {
   "cell_type": "code",
   "execution_count": 18,
   "id": "746a6c4d",
   "metadata": {},
   "outputs": [
    {
     "name": "stdout",
     "output_type": "stream",
     "text": [
      "RiverOne Upper 2500\n",
      "RiverOne Upper 2400\n",
      "RiverOne Upper 2300\n",
      "RiverOne Upper 2200\n",
      "RiverOne Upper 2100\n",
      "RiverOne Lower 2000\n",
      "RiverOne Lower 1000\n",
      "RiverOne Lower 601\n",
      "RiverOne Lower 501\n",
      "RiverOne Lower 401\n",
      "RiverOne Lower 301\n",
      "RiverOne Lower 201\n",
      "RiverOne Lower 101\n",
      "RiverOne Lower 1\n",
      "Thingy OnlyOne 500\n",
      "Thingy OnlyOne 400\n",
      "Thingy OnlyOne 300\n",
      "Thingy OnlyOne 200\n",
      "Thingy OnlyOne 100\n"
     ]
    }
   ],
   "source": [
    "ras.rivers\n",
    "r = ras.rivers[0].reaches[1]\n",
    "r.getCrossSections()\n",
    "r.xses[0].rs\n",
    "\n",
    "for river in ras.rivers:\n",
    "    for reach in river.reaches:\n",
    "        for xs in reach.xses:\n",
    "            print(f\"{river.river} {reach.reach} {xs.rs}\")"
   ]
  },
  {
   "cell_type": "markdown",
   "id": "22dd91af",
   "metadata": {},
   "source": [
    "## API\n",
    "\n",
    "If we want to control a HEC-RAS project more conveniently with high-level functions, we should instead use the `API` class.  This is generally the practical tool for Raspy usage, and builds on the lower-level capabilities in `Ras` objects.  (Note that this means different implementations of direct HEC-RAS control can be provided: any `Ras` object with the required methods will work.)"
   ]
  },
  {
   "cell_type": "code",
   "execution_count": 19,
   "id": "2d0b38b7",
   "metadata": {},
   "outputs": [],
   "source": [
    "api = API(ras)"
   ]
  },
  {
   "cell_type": "markdown",
   "id": "b3fd9207",
   "metadata": {},
   "source": [
    "The `API` object provides several groups of methods, under `data`, `ops`, and `params`.  Data methods are used to retrieve model data.  Params methods set model parameters (e.g., roughness).  Ops methods handle model operations, like running.\n",
    "\n",
    "Note that Raspy's `params` methods focus on straightforward tasks like changing roughness and flow.  In-depth geometry modifications require directly editing geometry files, which is implemented by the separate `RaspyGeo` package."
   ]
  },
  {
   "cell_type": "markdown",
   "id": "9ef40de7",
   "metadata": {},
   "source": [
    "### Retrieving Data\n",
    "\n",
    "The `API.data` object has methods for retrieving velocity, stage, and shear for everything, a whole river, all cross-sections in a reach, or an individual cross-section.  It does this for a specified number of flow profiles (the user must specify the number, since the HEC-RAS COM does not provide a way to list the number of profiles).  You can also retrieve full flow data, either for the main channel only (`api.data.allFlow()`) or the left overbank, main channel, and right overbank (`api.data.allFlowDist()`).  Likewise, the methods to retrieve velocity, etc have a variant ending in `Dist` that retrieves the distribution across the channel.  If you retrieve data for multiple rivers, reaches, cross-sections, or profiles, the result will be a nested dictionary."
   ]
  },
  {
   "cell_type": "code",
   "execution_count": 65,
   "id": "d6cb72b0",
   "metadata": {},
   "outputs": [
    {
     "data": {
      "text/plain": [
       "{1: 1.0122871398925781,\n",
       " 2: 2.142230987548828,\n",
       " 3: 2.908954620361328,\n",
       " 4: 4.2667083740234375,\n",
       " 5: 6.135383605957031,\n",
       " 6: 8.291099548339844,\n",
       " 7: 11.470245361328125,\n",
       " 8: 12.80145263671875,\n",
       " 9: 14.032791137695312,\n",
       " 10: 15.175979614257812}"
      ]
     },
     "execution_count": 65,
     "metadata": {},
     "output_type": "execute_result"
    }
   ],
   "source": [
    "api.data.stage('RiverOne', 'Lower', '401', 10)"
   ]
  },
  {
   "cell_type": "code",
   "execution_count": 64,
   "id": "59e57f98",
   "metadata": {},
   "outputs": [
    {
     "data": {
      "text/plain": [
       "{'RiverOne': {'Upper': {'2500': {'Q': [0, 10.0, 0],\n",
       "    'v': [0, 4.871948719024658, 0],\n",
       "    'y': [0, 1.43267822265625, 0],\n",
       "    'shear': [0, 0.19032390415668488, 0],\n",
       "    'etc': {'area': [0, 4.109661102294922, 0],\n",
       "     'wp': [0, 2.0525667667388916, 0]}},\n",
       "   '2400': {'Q': [0, 10.0, 0],\n",
       "    'v': [0, 4.871948719024658, 0],\n",
       "    'y': [0, 1.43267822265625, 0],\n",
       "    'shear': [0, 0.19032390415668488, 0],\n",
       "    'etc': {'area': [0, 4.109661102294922, 0],\n",
       "     'wp': [0, 2.0525667667388916, 0]}},\n",
       "   '2300': {'Q': [0, 10.0, 0],\n",
       "    'v': [0, 4.871948719024658, 0],\n",
       "    'y': [0, 1.43267822265625, 0],\n",
       "    'shear': [0, 0.19032390415668488, 0],\n",
       "    'etc': {'area': [0, 4.109661102294922, 0],\n",
       "     'wp': [0, 2.0525667667388916, 0]}},\n",
       "   '2200': {'Q': [0, 10.0, 0],\n",
       "    'v': [0, 4.871948719024658, 0],\n",
       "    'y': [0, 1.43267822265625, 0],\n",
       "    'shear': [0, 0.19032390415668488, 0],\n",
       "    'etc': {'area': [0, 4.109661102294922, 0],\n",
       "     'wp': [0, 2.0525667667388916, 0]}},\n",
       "   '2100': {'Q': [0, 10.0, 0],\n",
       "    'v': [0, 4.871325492858887, 0],\n",
       "    'y': [0, 1.432769775390625, 0],\n",
       "    'shear': [0, 0.19027118384838104, 0],\n",
       "    'etc': {'area': [0, 4.109923362731934, 0],\n",
       "     'wp': [0, 2.0528292655944824, 0]}}},\n",
       "  'Lower': {'2000': {'Q': [0, 15.0, 0],\n",
       "    'v': [0, 3.321375608444214, 0],\n",
       "    'y': [0, 0.390594482421875, 0],\n",
       "    'shear': [0, 0.216724693775177, 0],\n",
       "    'etc': {'area': [0, 13.220924377441406, 0],\n",
       "     'wp': [0, 4.516201019287109, 0]}},\n",
       "   '1000': {'Q': [0, 15.0, 0],\n",
       "    'v': [0, 3.321817636489868, 0],\n",
       "    'y': [0, 0.3905487060546875, 0],\n",
       "    'shear': [0, 0.21678169071674347, 0],\n",
       "    'etc': {'area': [0, 13.22054672241211, 0],\n",
       "     'wp': [0, 4.515600204467773, 0]}},\n",
       "   '601': {'Q': [0, 14.999999046325684, 0],\n",
       "    'v': [0, 3.3213016986846924, 0],\n",
       "    'y': [0, 0.39060211181640625, 0],\n",
       "    'shear': [0, 0.21671517193317413, 0],\n",
       "    'etc': {'area': [0, 13.220987319946289, 0],\n",
       "     'wp': [0, 4.516301155090332, 0]}},\n",
       "   '501': {'Q': [0, 15.0, 0],\n",
       "    'v': [0, 0.9956781268119812, 0],\n",
       "    'y': [0, 1.0584144592285156, 0],\n",
       "    'shear': [0, 0.020652174949645996, 0],\n",
       "    'etc': {'area': [0, 18.727909088134766, 0],\n",
       "     'wp': [0, 15.065109252929688, 0]}},\n",
       "   '401': {'Q': [0, 14.999999046325684, 0],\n",
       "    'v': [0, 1.0547208786010742, 0],\n",
       "    'y': [0, 1.0122871398925781, 0],\n",
       "    'shear': [0, 0.023108869791030884, 0],\n",
       "    'etc': {'area': [0, 18.3475341796875, 0],\n",
       "     'wp': [0, 14.221771240234375, 0]}},\n",
       "   '301': {'Q': [0, 14.999999046325684, 0],\n",
       "    'v': [0, 1.1332639455795288, 0],\n",
       "    'y': [0, 0.9571533203125, 0],\n",
       "    'shear': [0, 0.02658126875758171, 0],\n",
       "    'etc': {'area': [0, 17.89288902282715, 0],\n",
       "     'wp': [0, 13.236103057861328, 0]}},\n",
       "   '201': {'Q': [0, 15.0, 0],\n",
       "    'v': [0, 1.2465506792068481, 0],\n",
       "    'y': [0, 0.8879432678222656, 0],\n",
       "    'shear': [0, 0.031998809427022934, 0],\n",
       "    'etc': {'area': [0, 17.322168350219727, 0],\n",
       "     'wp': [0, 12.033205032348633, 0]}},\n",
       "   '101': {'Q': [0, 15.0, 0],\n",
       "    'v': [0, 1.4417170286178589, 0],\n",
       "    'y': [0, 0.7904815673828125, 0],\n",
       "    'shear': [0, 0.042460087686777115, 0],\n",
       "    'etc': {'area': [0, 16.518478393554688, 0],\n",
       "     'wp': [0, 10.404260635375977, 0]}},\n",
       "   '1': {'Q': [0, 15.0, 0],\n",
       "    'v': [0, 3.321817636489868, 0],\n",
       "    'y': [0, 0.3905487060546875, 0],\n",
       "    'shear': [0, 0.21678169071674347, 0],\n",
       "    'etc': {'area': [0, 13.22054672241211, 0],\n",
       "     'wp': [0, 4.515600204467773, 0]}}}},\n",
       " 'Thingy': {'OnlyOne': {'500': {'Q': [0, 5.0, 0],\n",
       "    'v': [0, 0.5661747455596924, 0],\n",
       "    'y': [0, 6.644989013671875, 0],\n",
       "    'shear': [0, 0.10454662144184113, 0],\n",
       "    'etc': {'area': [0, 13.553110122680664, 0],\n",
       "     'wp': [0, 8.831195831298828, 0]}},\n",
       "   '400': {'Q': [0, 5.0, 0],\n",
       "    'v': [0, 0.6189287900924683, 0],\n",
       "    'y': [0, 6.355499267578125, 0],\n",
       "    'shear': [0, 0.12680600583553314, 0],\n",
       "    'etc': {'area': [0, 12.962757110595703, 0],\n",
       "     'wp': [0, 8.078474044799805, 0]}},\n",
       "   '300': {'Q': [0, 5.0, 0],\n",
       "    'v': [0, 0.7011184692382812, 0],\n",
       "    'y': [0, 5.97137451171875, 0],\n",
       "    'shear': [0, 0.16613689064979553, 0],\n",
       "    'etc': {'area': [0, 12.179262161254883, 0],\n",
       "     'wp': [0, 7.131462574005127, 0]}},\n",
       "   '200': {'Q': [0, 5.0, 0],\n",
       "    'v': [0, 0.864478349685669, 0],\n",
       "    'y': [0, 5.377655029296875, 0],\n",
       "    'shear': [0, 0.26154834032058716, 0],\n",
       "    'etc': {'area': [0, 10.968307495117188, 0],\n",
       "     'wp': [0, 5.783834934234619, 0]}},\n",
       "   '100': {'Q': [0, 5.0, 0],\n",
       "    'v': [0, 5.85183572769165, 0],\n",
       "    'y': [0, 2.066925048828125, 0],\n",
       "    'shear': [0, 16.483572006225586, 0],\n",
       "    'etc': {'area': [0, 4.2157158851623535, 0],\n",
       "     'wp': [0, 0.8544327020645142, 0]}}}}}"
      ]
     },
     "execution_count": 64,
     "metadata": {},
     "output_type": "execute_result"
    }
   ],
   "source": [
    "data = api.data.allFlowDist()\n",
    "{rivn: {\n",
    "    rchn: {\n",
    "        rs: {\n",
    "            \"Q\": xs.flow, \"v\": xs.velocity, \"y\": xs.maxDepth, \"shear\": xs.shear, \"etc\": xs.etc\n",
    "        } for rs, xs in rch.items()\n",
    "    } for rchn, rch in riv.items()\n",
    "} for rivn, riv in data.items()}"
   ]
  },
  {
   "cell_type": "markdown",
   "id": "d2e8b1d2",
   "metadata": {},
   "source": [
    "### Setting Roughness and Running the Model\n",
    "\n",
    "Raspy supports setting roughness for whole reaches or individual cross-sections, and either for an entire cross-section or left/main/right.  To specify for individual cross-sections, the `manning` argument should be a dictionary of `{\"river station\": n}`.  To set multiple roughnesses within a cross-section, provide `n` as a list rather than a single value (e.g., `[0.15, 0.017, 0.15]` for a concrete channel with willow-covered overbanks).  In this demo, I compare stage results before and after setting roughness."
   ]
  },
  {
   "cell_type": "code",
   "execution_count": 66,
   "id": "54c74e6e",
   "metadata": {},
   "outputs": [
    {
     "name": "stdout",
     "output_type": "stream",
     "text": [
      "RiverOne Upper 2500\n",
      "RiverOne Upper 2400\n",
      "RiverOne Upper 2300\n",
      "RiverOne Upper 2200\n",
      "RiverOne Upper 2100\n",
      "RiverOne Lower 2000\n",
      "RiverOne Lower 1000\n",
      "RiverOne Lower 601\n",
      "RiverOne Lower 501\n",
      "RiverOne Lower 401\n",
      "RiverOne Lower 301\n",
      "RiverOne Lower 201\n",
      "RiverOne Lower 101\n",
      "RiverOne Lower 1\n",
      "Thingy OnlyOne 500\n",
      "Thingy OnlyOne 400\n",
      "Thingy OnlyOne 300\n",
      "Thingy OnlyOne 200\n",
      "Thingy OnlyOne 100\n"
     ]
    }
   ],
   "source": [
    "for river in ras.rivers:\n",
    "    for reach in river.reaches:\n",
    "        for xs in reach.xses:\n",
    "            print(f\"{river.river} {reach.reach} {xs.rs}\")"
   ]
  },
  {
   "cell_type": "code",
   "execution_count": 69,
   "id": "27d9a437",
   "metadata": {},
   "outputs": [
    {
     "data": {
      "text/plain": [
       "{1: 0.3905487060546875,\n",
       " 2: 1.0359344482421875,\n",
       " 3: 1.5390701293945312,\n",
       " 4: 2.6072845458984375,\n",
       " 5: 4.058616638183594,\n",
       " 6: 5.2050628662109375,\n",
       " 7: 6.9441986083984375,\n",
       " 8: 7.722938537597656,\n",
       " 9: 8.423637390136719,\n",
       " 10: 9.069602966308594}"
      ]
     },
     "execution_count": 69,
     "metadata": {},
     "output_type": "execute_result"
    }
   ],
   "source": [
    "api.params.modifyN(river=\"RiverOne\", reach=\"Lower\", manning = 0.017)\n",
    "api.ops.compute()\n",
    "api.data.stage(\"RiverOne\", \"Lower\", \"1000\", 10)"
   ]
  },
  {
   "cell_type": "code",
   "execution_count": 70,
   "id": "a8bffb63",
   "metadata": {},
   "outputs": [
    {
     "data": {
      "text/plain": [
       "{1: 0.3905487060546875,\n",
       " 2: 1.0359344482421875,\n",
       " 3: 1.5390701293945312,\n",
       " 4: 2.6072845458984375,\n",
       " 5: 4.094703674316406,\n",
       " 6: 5.572822570800781,\n",
       " 7: 7.814453125,\n",
       " 8: 8.819190979003906,\n",
       " 9: 9.6995849609375,\n",
       " 10: 10.577751159667969}"
      ]
     },
     "execution_count": 70,
     "metadata": {},
     "output_type": "execute_result"
    }
   ],
   "source": [
    "api.params.modifyN(river=\"RiverOne\", reach=\"Lower\", manning = {\"2000\": 0.1, \"1000\": [0.1, 0.03, 0.1], \"601\": 0.03, \"501\": 0.03, \"401\": 0.03, \"301\": 0.03})\n",
    "api.ops.compute()\n",
    "api.data.stage(\"RiverOne\", \"Lower\", \"1000\", 10)"
   ]
  },
  {
   "cell_type": "markdown",
   "id": "59207193",
   "metadata": {},
   "source": [
    "### Setting Flow Profiles\n",
    "\n",
    "Raspy supports specifying new flow profiles.  You must provide an existing flow file which the current plan is set up to use, and which will be overwritten (because it was much more convenient to do it that way than to edit the plan to point to a new flow file).  This functionality directly modifies the file, since HEC-RAS' function for setting flow doesn't work well if the number of profiles change (or didn't, in 5.0.7).  The file number is just the numeric part of the file extention, so `\"01\"` for `project.f01`.  (I have not tested setting a change of discharge mid-reach; it should work, but it may be necessary to manually insert discharge change points first.)"
   ]
  },
  {
   "cell_type": "code",
   "execution_count": 71,
   "id": "3c183eb6",
   "metadata": {},
   "outputs": [
    {
     "data": {
      "text/plain": [
       "{1: 1.223968505859375,\n",
       " 2: 1.8032455444335938,\n",
       " 3: 2.2424163818359375,\n",
       " 4: 2.6072235107421875,\n",
       " 5: 2.9239349365234375,\n",
       " 6: 3.2642059326171875,\n",
       " 7: 3.498321533203125,\n",
       " 8: 3.7131423950195312,\n",
       " 9: 3.8961868286132812,\n",
       " 10: 4.094703674316406,\n",
       " 11: 4.266777038574219,\n",
       " 12: 4.425994873046875,\n",
       " 13: 4.5731353759765625,\n",
       " 14: 4.7230682373046875,\n",
       " 15: 4.882865905761719,\n",
       " 16: 5.0311431884765625,\n",
       " 17: 5.1745147705078125,\n",
       " 18: 5.312690734863281,\n",
       " 19: 5.4454803466796875,\n",
       " 20: 5.572822570800781,\n",
       " 21: 5.6840667724609375,\n",
       " 22: 5.814964294433594,\n",
       " 23: 5.9361419677734375,\n",
       " 24: 6.0567169189453125,\n",
       " 25: 6.1919708251953125,\n",
       " 26: 6.314079284667969,\n",
       " 27: 6.434173583984375,\n",
       " 28: 6.552055358886719,\n",
       " 29: 6.667640686035156,\n",
       " 30: 6.780891418457031,\n",
       " 31: 6.8917236328125,\n",
       " 32: 7.000007629394531,\n",
       " 33: 7.105804443359375,\n",
       " 34: 7.209007263183594,\n",
       " 35: 7.297950744628906,\n",
       " 36: 7.4064178466796875,\n",
       " 37: 7.514442443847656,\n",
       " 38: 7.612770080566406,\n",
       " 39: 7.714134216308594,\n",
       " 40: 7.814453125,\n",
       " 41: 7.931793212890625,\n",
       " 42: 8.034370422363281,\n",
       " 43: 8.136001586914062,\n",
       " 44: 8.236724853515625,\n",
       " 45: 8.336502075195312,\n",
       " 46: 8.435173034667969,\n",
       " 47: 8.532867431640625,\n",
       " 48: 8.629447937011719,\n",
       " 49: 8.724906921386719,\n",
       " 50: 8.819190979003906}"
      ]
     },
     "execution_count": 71,
     "metadata": {},
     "output_type": "execute_result"
    }
   ],
   "source": [
    "api.params.setSteadyFlows(fileN=\"01\", river=\"RiverOne\", reach=\"Lower\", rs=\"2000\", flows=list(range(100, 5100, 100)))\n",
    "api.ops.compute()\n",
    "api.data.stage(\"RiverOne\", \"Lower\", \"1000\", 50)  # there are now 50 profiles"
   ]
  }
 ],
 "metadata": {
  "kernelspec": {
   "display_name": "Python 3 (ipykernel)",
   "language": "python",
   "name": "python3"
  },
  "language_info": {
   "codemirror_mode": {
    "name": "ipython",
    "version": 3
   },
   "file_extension": ".py",
   "mimetype": "text/x-python",
   "name": "python",
   "nbconvert_exporter": "python",
   "pygments_lexer": "ipython3",
   "version": "3.8.8"
  }
 },
 "nbformat": 4,
 "nbformat_minor": 5
}
